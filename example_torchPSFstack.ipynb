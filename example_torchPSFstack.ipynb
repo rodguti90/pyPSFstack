{
 "cells": [
  {
   "cell_type": "code",
   "execution_count": null,
   "metadata": {},
   "outputs": [],
   "source": [
    "import numpy as np\n",
    "import matplotlib.pyplot as plt\n",
    "import torch\n",
    "import torch.nn as nn\n",
    "from tqdm import tqdm\n",
    "\n",
    "from pyPSFstack.pupils.sources import DipoleInterfaceSource\n",
    "from pyPSFstack.pupils.windows import SEO, Qplate\n",
    "from pyPSFstack.pupils.aberrations import UnitaryAberrations\n",
    "from pyPSFstack.core import PSFStack\n",
    "from pyPSFstack.functions import trim_stack\n",
    "from pyPSFstack.diversities.pola_diversities import PDiversity_QWP, \\\n",
    "    PDiversity_LP, PDiversity_Compound\n",
    "from pyPSFstack.diversities.pupil_diversities import ZDiversity\n",
    "from pyPSFstack.blurring import ExactBlurring\n",
    "\n",
    "from pyPSFstack_torch.psf_modules import torchPSFStack\n",
    "from pyPSFstack_torch.pupils.sources import torchDipoleInterfaceSource\n",
    "from pyPSFstack_torch.pupils.windows import torchSEO\n",
    "from pyPSFstack_torch.pupils.aberrations import torchUnitaryAberrations\n",
    "from pyPSFstack_torch.diversities.pupil_diversities import torchZDiversity\n",
    "from pyPSFstack_torch.diversities.pola_diversities import torchPDiversity_QWP, \\\n",
    "    torchPDiversity_LP, torchPDiversity_Compound\n",
    "from pyPSFstack_torch.cost_functions import loss_loglikelihood, loss_sumsquared\n",
    "from pyPSFstack_torch.functions import get_pupils_param_dict, get_normNbck, colorize\n"
   ]
  },
  {
   "cell_type": "markdown",
   "metadata": {},
   "source": [
    "# torchPSFstack: Example of use "
   ]
  },
  {
   "cell_type": "markdown",
   "metadata": {},
   "source": [
    "## 1. Simulate experimental data using pyPSFstack"
   ]
  },
  {
   "cell_type": "markdown",
   "metadata": {},
   "source": [
    "### 1.1. Parameter definition"
   ]
  },
  {
   "cell_type": "code",
   "execution_count": null,
   "metadata": {},
   "outputs": [],
   "source": [
    "# Define number of points use for the computation \n",
    "N_pts = 128\n",
    "# Experimental parameters\n",
    "numerical_aperture = 1.49\n",
    "magnification = 100\n",
    "ni = 1.33\n",
    "nf = 1.518\n",
    "cam_pixel_size = 6500\n",
    "radius = 10\n",
    "wavelength = 525\n",
    "dipole_orientation = [0,0,0] # this means incoherent\n",
    "# Define positions of defocus\n",
    "zi = -500; zf = 500; z_step = 100\n",
    "z_list = np.arange(zi,zf+z_step,z_step)\n",
    "# Define rotation angles of polarization analyzer\n",
    "angle_i = 0; angle_f = np.pi/2; angle_step = np.pi/8\n",
    "angle_list=np.arange(angle_i,angle_f,angle_step)"
   ]
  },
  {
   "cell_type": "markdown",
   "metadata": {},
   "source": [
    "Put all necessary parameters in dicts"
   ]
  },
  {
   "cell_type": "code",
   "execution_count": null,
   "metadata": {},
   "outputs": [],
   "source": [
    "params = {}\n",
    "params['pupil'] = {}\n",
    "params['pupil']['aperture_size'] = numerical_aperture / nf\n",
    "params['pupil']['computation_size'] = wavelength*magnification/(cam_pixel_size*nf)\n",
    "params['pupil']['N_pts'] = N_pts\n",
    "\n",
    "params['source'] = {}\n",
    "params['source']['ni'] = ni\n",
    "params['source']['nf'] = nf\n",
    "params['source']['delta'] = radius/wavelength\n",
    "\n",
    "params['window'] = {}\n",
    "params['window']['c'] = np.pi#1.24*np.pi\n",
    "\n",
    "params['zdiversity'] = {}\n",
    "params['zdiversity']['z_list'] = z_list / wavelength\n",
    "params['zdiversity']['nf'] = nf\n",
    "\n",
    "params['blurring'] = {}\n",
    "params['blurring']['ni'] = ni\n",
    "params['blurring']['nf'] = nf\n",
    "params['blurring']['radius'] = radius/wavelength\n",
    "params['blurring']['diff_del_list'] = np.linspace(-radius/wavelength,\n",
    "    radius/wavelength,8)[1:-1] "
   ]
  },
  {
   "cell_type": "markdown",
   "metadata": {},
   "source": [
    "### 1.2. Instantiate all necessary class elements"
   ]
  },
  {
   "cell_type": "code",
   "execution_count": null,
   "metadata": {},
   "outputs": [],
   "source": [
    "# The source and window define th epupil sequence\n",
    "src = DipoleInterfaceSource(**params['pupil'],**params['source'])\n",
    "wdw = SEO(**params['pupil'],**params['window'])\n",
    "pupil_sequence = [src, wdw]\n",
    "# Then the diversities\n",
    "zdiv = ZDiversity(**params['zdiversity'], **params['pupil'])\n",
    "# The polarization diversity is taken as a rotating QWP followed \n",
    "# by a wollastan which splits into horizontal and vertical polarized\n",
    "# light \n",
    "qwp = PDiversity_QWP(angle_list)\n",
    "wollaston = PDiversity_LP([0, np.pi/2])\n",
    "pdiv = PDiversity_Compound([qwp, wollaston])\n",
    "# Finally we define the blurring as the exact model to try\n",
    "# to mimic the experimental result\n",
    "blurring = ExactBlurring(**params['blurring'],**params['pupil'])\n",
    "\n",
    "psfs = PSFStack(pupil_sequence, zdiversity=zdiv, pdiversity=pdiv, blurring=blurring)\n"
   ]
  },
  {
   "cell_type": "markdown",
   "metadata": {},
   "source": [
    "### 1.3. Compute the PSF stack"
   ]
  },
  {
   "cell_type": "markdown",
   "metadata": {},
   "source": [
    "We compute the stack for an incoherent dipole"
   ]
  },
  {
   "cell_type": "code",
   "execution_count": null,
   "metadata": {},
   "outputs": [],
   "source": [
    "psfs.compute_psf_stack(orientation=[0,0,0])"
   ]
  },
  {
   "cell_type": "markdown",
   "metadata": {},
   "source": [
    "Then we add the background illumination and noise"
   ]
  },
  {
   "cell_type": "code",
   "execution_count": null,
   "metadata": {},
   "outputs": [],
   "source": [
    "data_stack = psfs.model_experimental_stack(bckgd_photons=50,N_photons=10000,N_pts=40,noise=True)\n",
    "v_max = np.max(data_stack)\n",
    "v_min = np.min(data_stack)\n",
    "\n",
    "zdiv_mid_ind = int((zf-zi)/z_step//2)\n",
    "fig, axs = plt.subplots(3,3,figsize=(8,8))\n",
    "for ind in range(3):\n",
    "    axs[0,ind].imshow(data_stack[...,0,ind],vmin=v_min,vmax=v_max)\n",
    "    im = axs[1,ind].imshow(data_stack[...,zdiv_mid_ind,ind],vmin=v_min,vmax=v_max)\n",
    "    axs[2,ind].imshow(data_stack[...,-1,ind],vmin=v_min,vmax=v_max)\n",
    "for ax in axs.ravel():\n",
    "    ax.set_axis_off()\n",
    "\n",
    "cb_ax = fig.add_axes([0.9,0.1,0.01,0.8])\n",
    "fig.colorbar(im, cax=cb_ax)"
   ]
  },
  {
   "cell_type": "markdown",
   "metadata": {},
   "source": [
    "## 2. Birefringent pupil retrieval"
   ]
  },
  {
   "cell_type": "markdown",
   "metadata": {},
   "source": [
    "### 2.1. Model definition"
   ]
  },
  {
   "cell_type": "markdown",
   "metadata": {},
   "source": [
    "First we instantiate all necessary class elements"
   ]
  },
  {
   "cell_type": "code",
   "execution_count": null,
   "metadata": {},
   "outputs": [],
   "source": [
    "params['aberrations'] = {}\n",
    "params['aberrations']['jmax_list'] = [15]*4+[15]\n",
    "\n",
    "tsrc = torchDipoleInterfaceSource(**params['pupil'],**params['source'])\n",
    "twdw = torchUnitaryAberrations(**params['pupil'], **params['aberrations'])\n",
    "tpupil_sequence = [tsrc, twdw]\n",
    "tzdiv = torchZDiversity(**params['zdiversity'], **params['pupil'])\n",
    "tpdiv = torchPDiversity_Compound([torchPDiversity_QWP(angle_list), \n",
    "    torchPDiversity_LP([0, np.pi/2])])\n",
    "\n",
    "model_retrieved = torchPSFStack(\n",
    "                 data_stack.shape[0],\n",
    "                 tpupil_sequence,\n",
    "                 zdiversity=tzdiv,\n",
    "                 pdiversity=tpdiv\n",
    "                 )"
   ]
  },
  {
   "cell_type": "markdown",
   "metadata": {},
   "source": [
    "Then, we use the model data to estimate the scaling factor and background illumination"
   ]
  },
  {
   "cell_type": "code",
   "execution_count": null,
   "metadata": {},
   "outputs": [],
   "source": [
    "data_norm, data_bck = get_normNbck(data_stack)\n",
    "with torch.no_grad():\n",
    "    model_retrieved.eval()\n",
    "    first_est = model_retrieved()\n",
    "model_retrieved.set_scale_factor(data_norm/torch.sum(first_est))\n",
    "model_retrieved.set_pb_bck(data_bck, opt_b=True) # optimize background\n",
    "with torch.no_grad():\n",
    "    model_retrieved.eval()\n",
    "    first_est = model_retrieved()"
   ]
  },
  {
   "cell_type": "markdown",
   "metadata": {},
   "source": [
    "### 2.2. Launch optimization"
   ]
  },
  {
   "cell_type": "markdown",
   "metadata": {},
   "source": [
    "Set learning rate, and number of iterations"
   ]
  },
  {
   "cell_type": "code",
   "execution_count": null,
   "metadata": {},
   "outputs": [],
   "source": [
    "lr = 3e-2\n",
    "n_epochs = 200\n",
    "\n",
    "loss_fn = nn.MSELoss(reduction='mean')#loss_loglikelihood#\n",
    "\n",
    "optimizer = torch.optim.Adam(\n",
    "    model_retrieved.parameters(), \n",
    "    lr=lr\n",
    ")\n",
    "data = torch.from_numpy(data_stack).type(torch.float)"
   ]
  },
  {
   "cell_type": "markdown",
   "metadata": {},
   "source": [
    "Run optimization"
   ]
  },
  {
   "cell_type": "code",
   "execution_count": null,
   "metadata": {},
   "outputs": [],
   "source": [
    "loss_evol =[]\n",
    "for epoch in tqdm(range(n_epochs)):\n",
    "    \n",
    "    model_retrieved.train()\n",
    "    yhat = model_retrieved()\n",
    "    \n",
    "    loss = loss_fn(yhat, data)\n",
    "    loss_evol += [loss.item()]\n",
    "    loss.backward()    \n",
    "    optimizer.step()\n",
    "    optimizer.zero_grad()\n",
    "\n",
    "plt.plot(loss_evol)"
   ]
  },
  {
   "cell_type": "markdown",
   "metadata": {},
   "source": [
    "## 3. Comparrison"
   ]
  },
  {
   "cell_type": "markdown",
   "metadata": {},
   "source": [
    "### 3.1. PSFstack"
   ]
  },
  {
   "cell_type": "code",
   "execution_count": null,
   "metadata": {},
   "outputs": [],
   "source": [
    "zdiv_mid_ind = int((zf-zi)/z_step//2) # mid point should be in focus psf\n",
    "ret_stack = yhat.detach()\n",
    "fig, ax = plt.subplots(2,3,figsize=(9,6))\n",
    "for ind in range(3):\n",
    "    im = ax[0,ind].imshow(data_stack[...,zdiv_mid_ind-1,ind],vmin=v_min,vmax=v_max)\n",
    "    ax[0,ind].set_axis_off()\n",
    "    ax[1,ind].imshow(ret_stack[...,zdiv_mid_ind-1,ind],vmin=v_min,vmax=v_max)\n",
    "    ax[1,ind].set_axis_off()\n",
    "cb_ax = fig.add_axes([0.9,0.1,0.01,0.8])\n",
    "fig.colorbar(im, cax=cb_ax)"
   ]
  },
  {
   "cell_type": "markdown",
   "metadata": {},
   "source": [
    "### 3.2 Birefringent pupil"
   ]
  },
  {
   "cell_type": "markdown",
   "metadata": {},
   "source": [
    "We retrieve the parameters of the aberrations mask found during the optimization and instantiate the corresponding class element of ``pyPSFstack`` for easy handling and plotting"
   ]
  },
  {
   "cell_type": "code",
   "execution_count": null,
   "metadata": {},
   "outputs": [],
   "source": [
    "ret_pupil_params = get_pupils_param_dict(model_retrieved)\n",
    "abe = UnitaryAberrations(**params['pupil'], \n",
    "     **ret_pupil_params['pupil1'])\n",
    "abe.plot_pupil_field()"
   ]
  },
  {
   "cell_type": "markdown",
   "metadata": {},
   "source": [
    "Compare to the defined mask"
   ]
  },
  {
   "cell_type": "code",
   "execution_count": null,
   "metadata": {},
   "outputs": [],
   "source": [
    "wdw.plot_pupil_field()"
   ]
  }
 ],
 "metadata": {
  "kernelspec": {
   "display_name": "Python 3.7.11 ('base')",
   "language": "python",
   "name": "python3"
  },
  "language_info": {
   "name": "python",
   "version": "3.7.11"
  },
  "orig_nbformat": 4,
  "vscode": {
   "interpreter": {
    "hash": "40d3a090f54c6569ab1632332b64b2c03c39dcf918b08424e98f38b5ae0af88f"
   }
  }
 },
 "nbformat": 4,
 "nbformat_minor": 2
}
