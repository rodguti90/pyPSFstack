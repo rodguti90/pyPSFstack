{
 "cells": [
  {
   "cell_type": "code",
   "execution_count": 1,
   "metadata": {},
   "outputs": [],
   "source": [
    "%load_ext autoreload\n",
    "%autoreload 2\n",
    "import numpy as np\n",
    "import matplotlib.pyplot as plt\n",
    "\n",
    "from pyPSFstack.pupils.sources import DipoleInterfaceSource\n",
    "from pyPSFstack.pupils.windows import SEO\n",
    "from pyPSFstack.core import PSFStack\n",
    "from pyPSFstack.functions import trim_stack\n",
    "from pyPSFstack.diversities.pola_diversities import PDiversity_QWP, \\\n",
    "    PDiversity_LP, PDiversity_Compound\n",
    "from pyPSFstack.diversities.pupil_diversities import ZDiversity\n",
    "from pyPSFstack.blurring.blurring import ExactBlurring, SABlurring"
   ]
  },
  {
   "cell_type": "markdown",
   "metadata": {},
   "source": [
    "# Using fluorescent beads to emulate single fluorophores"
   ]
  },
  {
   "cell_type": "code",
   "execution_count": 83,
   "metadata": {},
   "outputs": [],
   "source": [
    "# Define number of points use for the computation \n",
    "N_pts = 128\n",
    "# Experimental parameters\n",
    "numerical_aperture = 1.49\n",
    "magnification = 100\n",
    "ni = 1.33\n",
    "nf = 1.518\n",
    "cam_pixel_size = 6500\n",
    "radius = 100\n",
    "wavelength = 525\n",
    "# Define positions of defocus\n",
    "zi = -600; zf = -zi; z_step = 50\n",
    "z_list = np.arange(zi,zf+z_step,z_step)\n",
    "blurring_slices = 20"
   ]
  },
  {
   "cell_type": "code",
   "execution_count": 84,
   "metadata": {},
   "outputs": [],
   "source": [
    "params = {}\n",
    "params['pupil'] = {}\n",
    "params['pupil']['aperture_size'] = numerical_aperture / nf\n",
    "params['pupil']['computation_size'] = wavelength*magnification/(cam_pixel_size*nf)\n",
    "params['pupil']['N_pts'] = N_pts\n",
    "\n",
    "params['source'] = {}\n",
    "params['source']['ni'] = ni\n",
    "params['source']['nf'] = nf\n",
    "params['source']['delta'] = radius/wavelength\n",
    "\n",
    "params['seo'] = {}\n",
    "params['seo']['c'] = 1.25*np.pi\n",
    "\n",
    "params['zdiversity'] = {}\n",
    "params['zdiversity']['z_list'] = z_list / wavelength\n",
    "params['zdiversity']['nf'] = nf\n",
    "\n",
    "params['pdiversity'] = {}\n",
    "params['pdiversity']['qwp_angles'] = [np.pi/4]\n",
    "params['pdiversity']['lp_angles'] = [0,np.pi/2]\n",
    "\n",
    "params['blurring'] = {}\n",
    "params['blurring']['ni'] = ni\n",
    "params['blurring']['nf'] = nf\n",
    "params['blurring']['radius'] = radius/wavelength\n",
    "diff_del_list = np.linspace(-radius/wavelength,\n",
    "    radius/wavelength,blurring_slices+2)[1:-1] \n"
   ]
  },
  {
   "cell_type": "code",
   "execution_count": 85,
   "metadata": {},
   "outputs": [],
   "source": [
    "src = DipoleInterfaceSource(**params['pupil'],**params['source'])\n",
    "seo = SEO(**params['pupil'],**params['seo'])\n",
    "pupil_sequence = [src, seo]\n",
    "\n",
    "zdiv = ZDiversity(**params['zdiversity'], **params['pupil'])\n",
    "qwp = PDiversity_QWP([np.pi/4])\n",
    "wollaston = PDiversity_LP([0, np.pi/2])\n",
    "pdiv = PDiversity_Compound([qwp, wollaston])"
   ]
  },
  {
   "cell_type": "code",
   "execution_count": 78,
   "metadata": {},
   "outputs": [],
   "source": [
    "blurring_exact = ExactBlurring(**params['blurring'],**params['pupil'], diff_del_list=diff_del_list)\n",
    "blurring_sa = SABlurring(**params['blurring'],**params['pupil'], m=2)"
   ]
  },
  {
   "cell_type": "code",
   "execution_count": 86,
   "metadata": {},
   "outputs": [],
   "source": [
    "psfs = PSFStack(pupil_sequence, zdiversity=zdiv, pdiversity=pdiv)\n",
    "psfs.compute_psf_stack(orientation=[0,0,0])"
   ]
  },
  {
   "cell_type": "code",
   "execution_count": 87,
   "metadata": {},
   "outputs": [
    {
     "data": {
      "text/plain": [
       "(30, 30, 25, 2)"
      ]
     },
     "execution_count": 87,
     "metadata": {},
     "output_type": "execute_result"
    }
   ],
   "source": [
    "stack = trim_stack(psfs.psf_stack, 30)\n",
    "stack.shape"
   ]
  },
  {
   "cell_type": "code",
   "execution_count": 92,
   "metadata": {},
   "outputs": [
    {
     "data": {
      "text/plain": [
       "<matplotlib.image.AxesImage at 0x7fb54ab632d0>"
      ]
     },
     "execution_count": 92,
     "metadata": {},
     "output_type": "execute_result"
    },
    {
     "data": {
      "image/png": "[encoded data removed]",
      "text/plain": [
       "<Figure size 432x288 with 1 Axes>"
      ]
     },
     "metadata": {
      "needs_background": "light"
     },
     "output_type": "display_data"
    }
   ],
   "source": [
    "plt.imshow(stack[:,15,:,0].T)"
   ]
  },
  {
   "cell_type": "code",
   "execution_count": 14,
   "metadata": {},
   "outputs": [
    {
     "data": {
      "image/png": "[encoded data removed]",
      "text/plain": [
       "<Figure size 576x576 with 2 Axes>"
      ]
     },
     "metadata": {
      "needs_background": "light"
     },
     "output_type": "display_data"
    }
   ],
   "source": [
    "stack = trim_stack(psfs.psf_stack, 30)\n",
    "stack = trim_stack(np.abs(psfs.psf_stack), 30)\n",
    "fig, ax = plt.subplots(1,2,figsize=(8,8))\n",
    "for ind in range(2):\n",
    "    ax[ind].imshow(stack[...,ind])\n",
    "    ax[ind].set_axis_off()\n"
   ]
  },
  {
   "cell_type": "code",
   "execution_count": 15,
   "metadata": {},
   "outputs": [],
   "source": [
    "psfs = PSFStack(pupil_sequence, pdiversity=pdiv, blurring=blurring_exact)\n",
    "psfs.compute_psf_stack(orientation=[0,0,0])"
   ]
  },
  {
   "cell_type": "code",
   "execution_count": 16,
   "metadata": {},
   "outputs": [
    {
     "data": {
      "image/png": "[encoded data removed]",
      "text/plain": [
       "<Figure size 576x576 with 2 Axes>"
      ]
     },
     "metadata": {
      "needs_background": "light"
     },
     "output_type": "display_data"
    }
   ],
   "source": [
    "stack = trim_stack(psfs.psf_stack, 30)\n",
    "stack = trim_stack(np.abs(psfs.psf_stack), 30)\n",
    "fig, ax = plt.subplots(1,2,figsize=(8,8))\n",
    "for ind in range(2):\n",
    "    ax[ind].imshow(stack[...,ind])\n",
    "    ax[ind].set_axis_off()"
   ]
  },
  {
   "cell_type": "code",
   "execution_count": 67,
   "metadata": {},
   "outputs": [],
   "source": [
    "blurring_sa = SABlurring(**params['blurring'],**params['pupil'], m=0)"
   ]
  },
  {
   "cell_type": "code",
   "execution_count": 68,
   "metadata": {},
   "outputs": [],
   "source": [
    "psfs = PSFStack(pupil_sequence, pdiversity=pdiv, blurring=blurring_sa)\n",
    "psfs.compute_psf_stack(orientation=[0,0,0])\n",
    "stack = trim_stack(psfs.psf_stack, 30)"
   ]
  },
  {
   "cell_type": "code",
   "execution_count": 69,
   "metadata": {},
   "outputs": [
    {
     "data": {
      "image/png": "[encoded data removed]",
      "text/plain": [
       "<Figure size 576x576 with 2 Axes>"
      ]
     },
     "metadata": {
      "needs_background": "light"
     },
     "output_type": "display_data"
    }
   ],
   "source": [
    "stack = trim_stack(psfs.psf_stack, 30)\n",
    "stack = trim_stack(np.abs(psfs.psf_stack), 30)\n",
    "fig, ax = plt.subplots(1,2,figsize=(8,8))\n",
    "for ind in range(2):\n",
    "    ax[ind].imshow(stack[...,ind])\n",
    "    ax[ind].set_axis_off()"
   ]
  },
  {
   "cell_type": "code",
   "execution_count": null,
   "metadata": {},
   "outputs": [],
   "source": []
  }
 ],
 "metadata": {
  "kernelspec": {
   "display_name": "Python 3.7.11 ('base')",
   "language": "python",
   "name": "python3"
  },
  "language_info": {
   "codemirror_mode": {
    "name": "ipython",
    "version": 3
   },
   "file_extension": ".py",
   "mimetype": "text/x-python",
   "name": "python",
   "nbconvert_exporter": "python",
   "pygments_lexer": "ipython3",
   "version": "3.7.11"
  },
  "orig_nbformat": 4,
  "vscode": {
   "interpreter": {
    "hash": "40d3a090f54c6569ab1632332b64b2c03c39dcf918b08424e98f38b5ae0af88f"
   }
  }
 },
 "nbformat": 4,
 "nbformat_minor": 2
}
