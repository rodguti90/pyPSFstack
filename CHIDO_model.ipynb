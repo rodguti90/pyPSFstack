{
 "cells": [
  {
   "cell_type": "markdown",
   "metadata": {},
   "source": [
    "# CHIDO modelling and retrieval example"
   ]
  },
  {
   "cell_type": "code",
   "execution_count": 6,
   "metadata": {},
   "outputs": [],
   "source": [
    "%load_ext autoreload\n",
    "%autoreload 2\n",
    "import numpy as np\n",
    "import matplotlib.pyplot as plt"
   ]
  },
  {
   "cell_type": "code",
   "execution_count": 22,
   "metadata": {},
   "outputs": [],
   "source": [
    "from pyPSFstack.pupils.sources import DipoleInterfaceSource\n",
    "from pyPSFstack.pupils.windows import SEO\n",
    "from pyPSFstack.pupils.aberrations import UnitaryAberrations\n",
    "from pyPSFstack.core import PSFStack, trim_stack\n",
    "from pyPSFstack.diversities import ZDiversity, PDiversity\n",
    "from pyPSFstack.cost_functions import CostGaussian"
   ]
  },
  {
   "cell_type": "markdown",
   "metadata": {},
   "source": [
    "## Modelling a PSF stack"
   ]
  },
  {
   "cell_type": "markdown",
   "metadata": {},
   "source": [
    "Let us begin by specifying the experimental parameters:"
   ]
  },
  {
   "cell_type": "code",
   "execution_count": 2,
   "metadata": {},
   "outputs": [],
   "source": [
    "numerical_aperture = 1.49\n",
    "magnification = 100\n",
    "ni = 1.33\n",
    "nf = 1.518\n",
    "cam_pixel_size = 6500\n",
    "distance_coverslip = 30\n",
    "wavelength = 525"
   ]
  },
  {
   "cell_type": "markdown",
   "metadata": {},
   "source": [
    "These parameters, in turn, fix the pupil properties:"
   ]
  },
  {
   "cell_type": "code",
   "execution_count": 3,
   "metadata": {},
   "outputs": [],
   "source": [
    "params = {}\n",
    "params['pupil'] = {}\n",
    "params['pupil']['aperture_size'] = numerical_aperture / nf\n",
    "params['pupil']['computation_size'] = wavelength*magnification/(cam_pixel_size*nf)\n",
    "params['pupil']['N_pts'] = 128"
   ]
  },
  {
   "cell_type": "markdown",
   "metadata": {},
   "source": [
    "Then we define the pupil sequence that we want to model. In general this will be composed by a source and a window at the Fourier plane. "
   ]
  },
  {
   "cell_type": "code",
   "execution_count": 7,
   "metadata": {},
   "outputs": [],
   "source": [
    "params['source'] = {}\n",
    "params['source']['ni'] = ni\n",
    "params['source']['nf'] = nf\n",
    "\n",
    "params['window'] = {}\n",
    "params['window']['c'] = 1.24*np.pi"
   ]
  },
  {
   "cell_type": "code",
   "execution_count": 8,
   "metadata": {},
   "outputs": [],
   "source": [
    "src = DipoleInterfaceSource(**params['pupil'],**params['source'])\n",
    "wdw = SEO(**params['pupil'],**params['window'])\n",
    "pupil_sequence = [src, wdw]"
   ]
  },
  {
   "cell_type": "markdown",
   "metadata": {},
   "source": [
    "Then we define the phase and polarization diversities:"
   ]
  },
  {
   "cell_type": "code",
   "execution_count": 9,
   "metadata": {},
   "outputs": [],
   "source": [
    "params['zdiversity'] = {}\n",
    "zi = -300; zf = 300; z_step = 100\n",
    "params['zdiversity']['z_list'] = np.arange(zi,zf+z_step,z_step) / wavelength\n",
    "params['zdiversity']['nf'] = nf\n",
    "\n",
    "params['pdiversity'] = {}\n",
    "angle_i = 0; angle_f = np.pi/2; angle_step = np.pi/4\n",
    "params['pdiversity']['pol_analyzer'] = 'quarter2pol'\n",
    "params['pdiversity']['angle_list'] = np.arange(angle_i,angle_f+angle_step,angle_step)"
   ]
  },
  {
   "cell_type": "code",
   "execution_count": 10,
   "metadata": {},
   "outputs": [],
   "source": [
    "zdiv = ZDiversity(**params['zdiversity'], **params['pupil'])\n",
    "pdiv = PDiversity(**params['pdiversity'])"
   ]
  },
  {
   "cell_type": "markdown",
   "metadata": {},
   "source": [
    "Finally, we initialize an instance of the class `PSFStack` which allows us to compute the desired PSF stack and even model the effect of background, photobleaching and noise:"
   ]
  },
  {
   "cell_type": "code",
   "execution_count": 11,
   "metadata": {},
   "outputs": [],
   "source": [
    "psfs = PSFStack(pupils=pupil_sequence,zdiversity=zdiv,pdiversity=pdiv)\n",
    "psfs.compute_psf_stack()"
   ]
  },
  {
   "cell_type": "markdown",
   "metadata": {},
   "source": [
    "Let us visualize the result:"
   ]
  },
  {
   "cell_type": "code",
   "execution_count": 15,
   "metadata": {},
   "outputs": [
    {
     "data": {
      "image/png": "[encoded data removed]",
      "text/plain": [
       "<Figure size 720x720 with 3 Axes>"
      ]
     },
     "metadata": {
      "needs_background": "light"
     },
     "output_type": "display_data"
    }
   ],
   "source": [
    "pdiv_ind = 0\n",
    "zdiv_mid_ind = int((zf-zi)/z_step//2)\n",
    "trimmed_stack = trim_stack(psfs.psf_stack, 30)\n",
    "fig, ax = plt.subplots(1,3,figsize=(10,10))\n",
    "for ind in range(3):\n",
    "    ax[ind].imshow(trimmed_stack[...,zdiv_mid_ind-1+ind,pdiv_ind])\n"
   ]
  },
  {
   "cell_type": "markdown",
   "metadata": {},
   "source": [
    "Now, we can model the effect of background illumination and noise. This is defined in terms of the maximum number of photons at a given pixel for the whole stack:"
   ]
  },
  {
   "cell_type": "code",
   "execution_count": 13,
   "metadata": {},
   "outputs": [],
   "source": [
    "modelled_stack = psfs.model_experimental_stack(bckgd_photons=30,N_photons=1000,N_pts=30)"
   ]
  },
  {
   "cell_type": "code",
   "execution_count": 14,
   "metadata": {},
   "outputs": [
    {
     "data": {
      "image/png": "[encoded data removed]",
      "text/plain": [
       "<Figure size 720x720 with 3 Axes>"
      ]
     },
     "metadata": {
      "needs_background": "light"
     },
     "output_type": "display_data"
    }
   ],
   "source": [
    "pdiv_ind = 0\n",
    "zdiv_mid_ind = int((zf-zi)/z_step//2)\n",
    "fig, ax = plt.subplots(1,3,figsize=(10,10))\n",
    "for ind in range(3):\n",
    "    ax[ind].imshow(modelled_stack[...,zdiv_mid_ind-1,pdiv_ind])"
   ]
  },
  {
   "cell_type": "markdown",
   "metadata": {},
   "source": [
    "## Birefringent pupil retrieval"
   ]
  },
  {
   "cell_type": "markdown",
   "metadata": {},
   "source": [
    "Using the previous modelled stack as if it were experimental data, we can demonstrate how to retrieve the birefringent window placed in the Fourier plane: "
   ]
  },
  {
   "cell_type": "code",
   "execution_count": 16,
   "metadata": {},
   "outputs": [],
   "source": [
    "params['aberrations'] = {}\n",
    "params['aberrations']['jmax_list'] = [10]*5\n",
    "params['aberrations']['index_convention'] = 'fringe'"
   ]
  },
  {
   "cell_type": "markdown",
   "metadata": {},
   "source": [
    "After creating the different components of the pupil we need to activate which pupil parameters we want to optimize. Here, we only consider thos of the aberration mask:"
   ]
  },
  {
   "cell_type": "code",
   "execution_count": 40,
   "metadata": {},
   "outputs": [],
   "source": [
    "src_ret = DipoleInterfaceSource(**params['pupil'],**params['source'])\n",
    "abe = UnitaryAberrations(**params['pupil'],**params['aberrations'])\n",
    "abe.activate_parameters_optimization()\n",
    "pupil_sequence = [src_ret, abe]"
   ]
  },
  {
   "cell_type": "markdown",
   "metadata": {},
   "source": [
    "Now, we initialize our instance of the `PSFStack` class and visualize the modelled psfs."
   ]
  },
  {
   "cell_type": "code",
   "execution_count": 41,
   "metadata": {},
   "outputs": [],
   "source": [
    "psfs_ret = PSFStack(pupils=pupil_sequence,zdiversity=zdiv,pdiversity=pdiv)\n",
    "psfs_ret.compute_psf_stack()"
   ]
  },
  {
   "cell_type": "code",
   "execution_count": 42,
   "metadata": {},
   "outputs": [
    {
     "data": {
      "image/png": "[encoded data removed]",
      "text/plain": [
       "<Figure size 720x720 with 3 Axes>"
      ]
     },
     "metadata": {
      "needs_background": "light"
     },
     "output_type": "display_data"
    }
   ],
   "source": [
    "pdiv_ind = 0\n",
    "zdiv_mid_ind = int((zf-zi)/z_step//2)\n",
    "trimmed_stack = trim_stack(psfs_ret.psf_stack, 30)\n",
    "fig, ax = plt.subplots(1,3,figsize=(10,10))\n",
    "for ind in range(3):\n",
    "    ax[ind].imshow(trimmed_stack[...,zdiv_mid_ind-1+ind,pdiv_ind])\n"
   ]
  },
  {
   "cell_type": "markdown",
   "metadata": {},
   "source": [
    "We load the stack that will serve as the measured data:"
   ]
  },
  {
   "cell_type": "code",
   "execution_count": 43,
   "metadata": {},
   "outputs": [],
   "source": [
    "psfs_ret.set_data_psf_stack(modelled_stack)"
   ]
  },
  {
   "cell_type": "markdown",
   "metadata": {},
   "source": [
    "Then we choose the cost function"
   ]
  },
  {
   "cell_type": "code",
   "execution_count": 44,
   "metadata": {},
   "outputs": [],
   "source": [
    "psfs_ret.set_cost_function(CostGaussian())"
   ]
  },
  {
   "cell_type": "markdown",
   "metadata": {},
   "source": [
    "Finally, we launch the optimization"
   ]
  },
  {
   "cell_type": "code",
   "execution_count": 45,
   "metadata": {},
   "outputs": [],
   "source": [
    "opt_res = psfs_ret.optimize_parameters(maxiter=500)"
   ]
  },
  {
   "cell_type": "markdown",
   "metadata": {},
   "source": [
    "We visualize the results, first the evolution of the cost function, then the retrieved pupil and the corresonding psf"
   ]
  },
  {
   "cell_type": "code",
   "execution_count": 46,
   "metadata": {},
   "outputs": [
    {
     "data": {
      "text/plain": [
       "[<matplotlib.lines.Line2D at 0x128fd1050>]"
      ]
     },
     "execution_count": 46,
     "metadata": {},
     "output_type": "execute_result"
    },
    {
     "data": {
      "image/png": "[encoded data removed]",
      "text/plain": [
       "<Figure size 432x288 with 1 Axes>"
      ]
     },
     "metadata": {
      "needs_background": "light"
     },
     "output_type": "display_data"
    }
   ],
   "source": [
    "plt.plot(psfs_ret.cost_evol[2:])"
   ]
  },
  {
   "cell_type": "code",
   "execution_count": 47,
   "metadata": {},
   "outputs": [
    {
     "data": {
      "image/png": "[encoded data removed]",
      "text/plain": [
       "<Figure size 720x360 with 8 Axes>"
      ]
     },
     "metadata": {
      "needs_background": "light"
     },
     "output_type": "display_data"
    }
   ],
   "source": [
    "fig, ax = plt.subplots(2,4,figsize=(10,5))\n",
    "for inx in range(2):\n",
    "    for iny in range(2):\n",
    "        ax[0,inx+2*iny].imshow(np.abs(psfs.pupils[1].pupil_array[...,inx,iny]))\n",
    "        ax[1,inx+2*iny].imshow(np.abs(psfs_ret.pupils[1].pupil_array[...,inx,iny]))"
   ]
  },
  {
   "cell_type": "code",
   "execution_count": 48,
   "metadata": {},
   "outputs": [
    {
     "data": {
      "image/png": "[encoded data removed]",
      "text/plain": [
       "<Figure size 720x504 with 6 Axes>"
      ]
     },
     "metadata": {
      "needs_background": "light"
     },
     "output_type": "display_data"
    }
   ],
   "source": [
    "pdiv_ind = 1\n",
    "zdiv_mid_ind = int((zf-zi)/z_step//2)\n",
    "trimmed_stack = trim_stack(psfs.psf_stack, 30)\n",
    "ret_trimmed_stack = trim_stack(psfs_ret.psf_stack, 30)\n",
    "fig, ax = plt.subplots(2,3,figsize=(10,7))\n",
    "for ind in range(3):\n",
    "    ax[0,ind].imshow(trimmed_stack[...,zdiv_mid_ind-1+ind,pdiv_ind])\n",
    "    ax[1,ind].imshow(ret_trimmed_stack[...,zdiv_mid_ind-1+ind,pdiv_ind])"
   ]
  },
  {
   "cell_type": "markdown",
   "metadata": {},
   "source": []
  }
 ],
 "metadata": {
  "interpreter": {
   "hash": "40d3a090f54c6569ab1632332b64b2c03c39dcf918b08424e98f38b5ae0af88f"
  },
  "kernelspec": {
   "display_name": "Python 3.7.4 64-bit ('base': conda)",
   "language": "python",
   "name": "python3"
  },
  "language_info": {
   "codemirror_mode": {
    "name": "ipython",
    "version": 3
   },
   "file_extension": ".py",
   "mimetype": "text/x-python",
   "name": "python",
   "nbconvert_exporter": "python",
   "pygments_lexer": "ipython3",
   "version": "3.7.11"
  },
  "orig_nbformat": 4
 },
 "nbformat": 4,
 "nbformat_minor": 2
}
